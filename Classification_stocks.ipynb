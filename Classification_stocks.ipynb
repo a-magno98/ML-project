{
 "cells": [
  {
   "cell_type": "markdown",
   "metadata": {},
   "source": [
    "### Finance data analysis: binary classification\n",
    "This project makes use of machine learning data analytic techniques to make binary classification on financial data and predict a stock is worth buying or not. \n",
    "Dataset: 200+ Financial Indicators of US stocks (2014-2018).\n",
    "The last column of datasets is 'class', lists a binary classification for each stock. From a trading perspective, the 1 identifies those stocks that a hypothetical trader should buy at the start of the year and sell at the end of the year for a profit, while the 0 identifies those stocks that a hypothetical trader should not buy since their value will decrease, meaning a loss of capital.\n",
    "\n",
    "I use these datasets to train several machine learning models:\n",
    "\n",
    "-Logistic Regression\n",
    "\n",
    "-Support Vector Machine\n",
    "\n",
    "-Decision Tree\n",
    "\n",
    "Before train the models, I apply for each one, 5 fold cross validation to find the best parameters.\n"
   ]
  },
  {
   "cell_type": "code",
   "execution_count": null,
   "metadata": {},
   "outputs": [],
   "source": [
    "#Import the libraries\n",
    "import datetime as dt\n",
    "from sklearn.model_selection import train_test_split\n",
    "from sklearn.tree import DecisionTreeClassifier\n",
    "from sklearn.metrics import accuracy_score\n",
    "from sklearn import preprocessing\n",
    "import numpy as np\n",
    "import pandas as pd\n",
    "import sklearn\n",
    "from sklearn.linear_model import LogisticRegression\n",
    "from sklearn.model_selection import GridSearchCV\n",
    "from sklearn.svm import SVC\n",
    "from imblearn.over_sampling import RandomOverSampler"
   ]
  },
  {
   "cell_type": "code",
   "execution_count": null,
   "metadata": {},
   "outputs": [],
   "source": [
    "#this function takes 2 file:\n",
    "    #-file contain data for the training set\n",
    "    #-file2 contain data for the test set\n",
    "#return the traindata,trainlabel,testdata,testlabel extracted from files\n",
    "def getData(file, file2, year):\n",
    "    #load data using pandas dataframe\n",
    "    df = pd.read_csv(file)\n",
    "    df2 = pd.read_csv(file2)\n",
    "    \n",
    "    #trasform in numpy array both dataframes\n",
    "    data=np.array(df)\n",
    "    data2=np.array(df2)\n",
    "\n",
    "    #first column ID removed from the dataset\n",
    "    Xtr, Ytr = data[:,1:-4], data[:, -1]\n",
    "    Xte, Yte = data2[:,1:-4], data2[:, -1]\n",
    "    \n",
    "    #for all year except 2014, oversampled values to solve problem of imbalanced classes\n",
    "    if(year!=2014):\n",
    "        Ytr = Ytr.astype(np.int32)\n",
    "        ros = RandomOverSampler(random_state=0)\n",
    "        Xtr, Ytr = ros.fit_resample(Xtr, Ytr)\n",
    "    \n",
    "    #Normalization features in [-1,1]\n",
    "    scaler = preprocessing.StandardScaler().fit(Xtr)\n",
    "    Xtr2 = scaler.transform(Xtr)\n",
    "    Xte2 = scaler.transform(Xte)\n",
    "    \n",
    "    traindata = np.array(Xtr2)\n",
    "    trainlabel = np.array(Ytr)\n",
    "\n",
    "    testdata = np.array(Xte2)\n",
    "    testlabel = np.array(Yte)\n",
    "\n",
    "    traindata=traindata.astype(float)\n",
    "    trainlabel=trainlabel.astype(int)\n",
    "    testdata=testdata.astype(float)\n",
    "    testlabel = testlabel.astype(int)\n",
    "    return traindata,trainlabel,testdata,testlabel"
   ]
  },
  {
   "cell_type": "code",
   "execution_count": null,
   "metadata": {},
   "outputs": [],
   "source": [
    "#Function to evaluate my classifiers\n",
    "def evaluate(Yte,Ypred):\n",
    "    return accuracy_score(Yte, Ypred)       "
   ]
  },
  {
   "cell_type": "code",
   "execution_count": null,
   "metadata": {},
   "outputs": [],
   "source": [
    "#Logistic Regression\n",
    "def LogRegression(Xtr,Ytr,Xte,Yte):\n",
    "    clf = LogisticRegression(solver='lbfgs', max_iter = 10000)\n",
    "    grid={\"C\":np.logspace(-3,3,7), \"penalty\":[\"l2\"]}\n",
    "    #5 fold cross validation\n",
    "    clf_cv=GridSearchCV(clf,grid,cv=5)\n",
    "    clf_cv.fit(Xtr,Ytr)\n",
    "    Ypred = clf_cv.best_estimator_.predict(Xte)\n",
    "    print(\"best parameters:\", clf_cv.best_params_)\n",
    "    return evaluate(Yte,Ypred)"
   ]
  },
  {
   "cell_type": "code",
   "execution_count": null,
   "metadata": {},
   "outputs": [],
   "source": [
    "#Decision Tree\n",
    "def decision_tree(Xtr,Ytr,Xte,Yte):\n",
    "    tree = DecisionTreeClassifier(random_state=1)\n",
    "    md=np.arange(1,50,10)\n",
    "    param_grid = {'max_depth': md}\n",
    "    #5 fold cross validation\n",
    "    gridcv = sklearn.model_selection.GridSearchCV(tree, param_grid, verbose=1, cv=5)\n",
    "    gridcv.fit(Xtr, Ytr)\n",
    "    Ypred = gridcv.best_estimator_.predict(Xte)\n",
    "    print(\"best parameters:\", gridcv.best_params_)\n",
    "    return evaluate(Yte,Ypred)"
   ]
  },
  {
   "cell_type": "code",
   "execution_count": null,
   "metadata": {},
   "outputs": [],
   "source": [
    "#Support Vector Machine\n",
    "def SVM(Xtr,Ytr,Xte,Yte):\n",
    "    svm = SVC(kernel='rbf')\n",
    "    C_grid = np.logspace(0, 3, 4)\n",
    "    gamma_grid = np.logspace(-2, 1, 4)\n",
    "    param_grid = {'C': C_grid, 'gamma': gamma_grid}\n",
    "    #5 fold cross validation\n",
    "    gridcv = GridSearchCV(svm, param_grid, verbose=1, cv=5)\n",
    "    gridcv.fit(Xtr, Ytr)\n",
    "    Ypred = gridcv.best_estimator_.predict(Xte)\n",
    "    print(\"best parameters:\", gridcv.best_params_)\n",
    "    return evaluate(Yte,Ypred)"
   ]
  },
  {
   "cell_type": "code",
   "execution_count": null,
   "metadata": {},
   "outputs": [],
   "source": [
    "#This function take in input:\n",
    "##-traindata,trainlabel,testdata,testlabel\n",
    "#return the accourancies of the 3 classifiers\n",
    "def training_models(traindata,trainlabel,testdata,testlabel):\n",
    "    acc_tree = decision_tree(traindata,trainlabel,testdata,testlabel)\n",
    "    acc_lr = LogRegression(traindata,trainlabel,testdata,testlabel)\n",
    "    acc_svm = SVM(traindata,trainlabel,testdata,testlabel)\n",
    "    return acc_tree, acc_lr, acc_svm"
   ]
  },
  {
   "cell_type": "code",
   "execution_count": null,
   "metadata": {},
   "outputs": [],
   "source": [
    "#Analysis data 2014-2015\n",
    "#I use the data of 2014 to train the model and the data of 2015 to test\n",
    "file1 = 'Data Preprocessing/2014_preprocessed.csv'\n",
    "file2 = 'Data Preprocessing/2015_preprocessed.csv'\n",
    "traindata,trainlabel,testdata,testlabel = getData(file1, file2, 2014)\n",
    "print(\"Training models and evaluations\")\n",
    "acc_tree, acc_lr, acc_svm = training_models(traindata,trainlabel,testdata,testlabel)\n",
    "#acc_tree, acc_lr, acc_svm = training_models(traindata,trainlabel,traindata,trainlabel)\n",
    "print(\"Accurancy tree: \", acc_tree)\n",
    "print(\"Accurancy lr: \", acc_lr)\n",
    "print(\"Accurancy svm: \", acc_svm)"
   ]
  },
  {
   "cell_type": "code",
   "execution_count": null,
   "metadata": {},
   "outputs": [],
   "source": [
    "#Analysis data 2015-2016\n",
    "#I use the data of 2015 to train the model and the data of 2016 to test\n",
    "file3 = 'Data Preprocessing/2015_preprocessed.csv'\n",
    "file4 = 'Data Preprocessing/2016_preprocessed.csv'\n",
    "traindata,trainlabel,testdata,testlabel = getData(file3, file4, 2015)\n",
    "print(\"Training models and evaluations\")\n",
    "acc_tree, acc_lr, acc_svm = training_models(traindata,trainlabel,testdata,testlabel)\n",
    "#acc_tree, acc_lr, acc_svm = training_models(traindata,trainlabel,traindata,trainlabel)\n",
    "print(\"Accurancy tree: \", acc_tree)\n",
    "print(\"Accurancy lr: \", acc_lr)\n",
    "print(\"Accurancy svm: \", acc_svm)"
   ]
  },
  {
   "cell_type": "code",
   "execution_count": null,
   "metadata": {},
   "outputs": [],
   "source": [
    "#Analysis data 2016-2017\n",
    "#I use the data of 2016 to train the model and the data of 2017 to test\n",
    "file5 = 'Data Preprocessing/2016_preprocessed.csv'\n",
    "file6 = 'Data Preprocessing/2017_preprocessed.csv'\n",
    "traindata,trainlabel,testdata,testlabel = getData(file5, file6, 2016)\n",
    "print(\"Training models and evaluations\")\n",
    "acc_tree, acc_lr, acc_svm = training_models(traindata,trainlabel,testdata,testlabel)\n",
    "#acc_tree, acc_lr, acc_svm = training_models(traindata,trainlabel,traindata,trainlabel)\n",
    "print(\"Accurancy tree: \", acc_tree)\n",
    "print(\"Accurancy lr: \", acc_lr)\n",
    "print(\"Accurancy svm: \", acc_svm)"
   ]
  },
  {
   "cell_type": "code",
   "execution_count": null,
   "metadata": {},
   "outputs": [],
   "source": [
    "#Analysis data 2017-2018\n",
    "#I use the data of 2017 to train the model and the data of 2018 to test\n",
    "file7 = 'Data Preprocessing/2017_preprocessed.csv'\n",
    "file8 = 'Data Preprocessing/2018_preprocessed.csv'\n",
    "traindata,trainlabel,testdata,testlabel = getData(file7, file8, 2017)\n",
    "print(\"Training models and evaluations\")\n",
    "acc_tree, acc_lr, acc_svm = training_models(traindata,trainlabel,testdata,testlabel)\n",
    "#acc_tree, acc_lr, acc_svm = training_models(traindata,trainlabel,traindata,trainlabel)\n",
    "print(\"Accurancy tree: \", acc_tree)\n",
    "print(\"Accurancy lr: \", acc_lr)\n",
    "print(\"Accurancy svm: \", acc_svm)"
   ]
  },
  {
   "cell_type": "code",
   "execution_count": null,
   "metadata": {},
   "outputs": [],
   "source": [
    "#best algorithm based on the mean of the performances\n",
    "lr = np.array([46, 52, 49, 52])\n",
    "svm = np.array([41, 66, 27, 31])\n",
    "tree = np.array([47, 62, 41, 44])\n",
    "print(np.mean(lr))\n",
    "print(np.mean(svm))\n",
    "print(np.mean(tree))"
   ]
  },
  {
   "cell_type": "code",
   "execution_count": null,
   "metadata": {},
   "outputs": [],
   "source": []
  }
 ],
 "metadata": {
  "kernelspec": {
   "display_name": "Python 3",
   "language": "python",
   "name": "python3"
  },
  "language_info": {
   "codemirror_mode": {
    "name": "ipython",
    "version": 3
   },
   "file_extension": ".py",
   "mimetype": "text/x-python",
   "name": "python",
   "nbconvert_exporter": "python",
   "pygments_lexer": "ipython3",
   "version": "3.7.4"
  }
 },
 "nbformat": 4,
 "nbformat_minor": 2
}
