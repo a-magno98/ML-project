{
 "cells": [
  {
   "cell_type": "markdown",
   "metadata": {},
   "source": [
    "### Data preprocessing\n",
    "Exploring the data, I realized that I have a lot of missing values so I decide to drop the columns that have more than 50% of data null and replaced with 0 the other missing values.\n",
    "I also see that some datasets are imbalanced, take notes of them and I oversample randomly them in the other notebook."
   ]
  },
  {
   "cell_type": "code",
   "execution_count": 2,
   "metadata": {},
   "outputs": [],
   "source": [
    "#Import the libraries\n",
    "import numpy as np\n",
    "import pandas as pd"
   ]
  },
  {
   "cell_type": "code",
   "execution_count": 3,
   "metadata": {},
   "outputs": [],
   "source": [
    "#Count the percentage of the missing values for each column\n",
    "def CountNaN(data):\n",
    "    cols = data.columns.tolist() \n",
    "    n_df = data.shape[0]    \n",
    "    for col in cols:\n",
    "        missing = np.count_nonzero(data[col].isnull().values)  \n",
    "        mis_perc = float(missing) / n_df * 100\n",
    "        #print(\"{col}: {miss}%\".format(col=col,miss=mis_perc))\n",
    "        if mis_perc > 50:\n",
    "            data.drop([col], axis = 1)\n",
    "            \n",
    "    return data"
   ]
  },
  {
   "cell_type": "code",
   "execution_count": 4,
   "metadata": {},
   "outputs": [],
   "source": [
    "#Open the csv file, count the NaN values and fill the missing values with 0.\n",
    "def processData(file):\n",
    "    df = pd.read_csv(file)\n",
    "    data = CountNaN(df)\n",
    "    #Update NaN values with 0\n",
    "    data.fillna(0, inplace=True)\n",
    "    return data"
   ]
  },
  {
   "cell_type": "code",
   "execution_count": 5,
   "metadata": {},
   "outputs": [],
   "source": [
    "file = 'Data/2014_Financial_Data.csv'\n",
    "data = processData(file)\n",
    "data.to_csv('2014_preprocessed.csv',index=False)"
   ]
  },
  {
   "cell_type": "code",
   "execution_count": 52,
   "metadata": {},
   "outputs": [],
   "source": [
    "file = 'Data/2015_Financial_Data.csv'\n",
    "data = processData(file)\n",
    "data.to_csv('2015_preprocessed.csv',index=False)"
   ]
  },
  {
   "cell_type": "code",
   "execution_count": 54,
   "metadata": {},
   "outputs": [],
   "source": [
    "file = 'Data/2016_Financial_Data.csv'\n",
    "data = processData(file)\n",
    "data.to_csv('2016_preprocessed.csv',index=False)"
   ]
  },
  {
   "cell_type": "code",
   "execution_count": 56,
   "metadata": {},
   "outputs": [],
   "source": [
    "file = 'Data/2017_Financial_Data.csv'\n",
    "data = processData(file)\n",
    "data.to_csv('2017_preprocessed.csv',index=False)"
   ]
  },
  {
   "cell_type": "code",
   "execution_count": 58,
   "metadata": {},
   "outputs": [],
   "source": [
    "file = 'Data/2018_Financial_Data.csv'\n",
    "data = processData(file)\n",
    "data.to_csv('2018_preprocessed.csv',index=False)"
   ]
  },
  {
   "cell_type": "code",
   "execution_count": 47,
   "metadata": {},
   "outputs": [],
   "source": [
    "#count the number of 0\n",
    "def count_zero(col):\n",
    "    count0 = 0\n",
    "    for n in col:\n",
    "        if n == 0:\n",
    "            count0+=1\n",
    "    return count0"
   ]
  },
  {
   "cell_type": "code",
   "execution_count": 59,
   "metadata": {},
   "outputs": [
    {
     "name": "stdout",
     "output_type": "stream",
     "text": [
      "30.64663023679417\n",
      "69.35336976320583\n"
     ]
    }
   ],
   "source": [
    "#check imbalanced datasets\n",
    "ones = np.count_nonzero(data['Class'])\n",
    "zeros = count_zero(data['Class'])\n",
    "n_df = data.shape[0]\n",
    "perc_ones = float(ones) / n_df * 100\n",
    "perc_zeros = float(zeros) / n_df * 100\n",
    "print(perc_zeros)\n",
    "print(perc_ones)\n",
    "#2014-->57%(0) and 42%(1)\n",
    "#2015-->29%(0) and 70%(1)\n",
    "#2016-->32%(0) and 67%(1)\n",
    "#2017-->72%(0) and 27%(1)\n",
    "#2018-->30%(0) and 70%(1)"
   ]
  },
  {
   "cell_type": "code",
   "execution_count": null,
   "metadata": {},
   "outputs": [],
   "source": []
  }
 ],
 "metadata": {
  "kernelspec": {
   "display_name": "Python 3",
   "language": "python",
   "name": "python3"
  },
  "language_info": {
   "codemirror_mode": {
    "name": "ipython",
    "version": 3
   },
   "file_extension": ".py",
   "mimetype": "text/x-python",
   "name": "python",
   "nbconvert_exporter": "python",
   "pygments_lexer": "ipython3",
   "version": "3.7.4"
  }
 },
 "nbformat": 4,
 "nbformat_minor": 2
}
